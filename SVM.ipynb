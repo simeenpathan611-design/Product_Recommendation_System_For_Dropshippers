{
 "cells": [
  {
   "cell_type": "code",
   "execution_count": 18,
   "id": "8f549384",
   "metadata": {},
   "outputs": [],
   "source": [
    "import pandas as pd\n",
    "import numpy as np\n",
    "from sklearn.model_selection import train_test_split\n",
    "from sklearn.svm import SVC\n",
    "from sklearn.metrics import accuracy_score\n",
    "import matplotlib.pyplot as plt\n",
    "import seaborn as sns"
   ]
  },
  {
   "cell_type": "code",
   "execution_count": 19,
   "id": "1243bf16",
   "metadata": {},
   "outputs": [],
   "source": [
    "data = pd.read_csv(\"filtered_data.csv\")  \n",
    "df = pd.DataFrame(data)"
   ]
  },
  {
   "cell_type": "code",
   "execution_count": 20,
   "id": "8551fd2c",
   "metadata": {},
   "outputs": [],
   "source": [
    "# Mapped categorical \"Order_Priority\" values to numeric values\n",
    "order_priority_mapping = {\n",
    "    \"High\": 3,\n",
    "    \"Medium\": 2,\n",
    "    \"Low\": 1,\n",
    "    \"Not Specified\": 0,\n",
    "    \"Critical\": 0\n",
    "}\n",
    "\n",
    "# Mapped the \"Order_Priority\" column using the mapping\n",
    "df[\"Order_Priority\"] = df[\"Order_Priority\"].map(order_priority_mapping)\n"
   ]
  },
  {
   "cell_type": "code",
   "execution_count": 21,
   "id": "4a7e3e3d",
   "metadata": {},
   "outputs": [],
   "source": [
    "# Defined the features (independent variables)\n",
    "X = df[['Sales', 'Order_Quantity', 'Profit', 'Order_Priority']]\n",
    "\n",
    "y = df['result']\n",
    "\n",
    "X_train, X_test, y_train, y_test = train_test_split(X, y, test_size=0.2, random_state=42)\n",
    "\n",
    "model = SVC(random_state=42)\n",
    "model.fit(X_train, y_train)\n",
    "\n",
    "y_pred = model.predict(X_test)"
   ]
  },
  {
   "cell_type": "code",
   "execution_count": 22,
   "id": "471940e1-64dd-4a29-98a6-5ec3399d1845",
   "metadata": {},
   "outputs": [
    {
     "name": "stdout",
     "output_type": "stream",
     "text": [
      "Confusion Matrix:\n",
      "[[19  1]\n",
      " [ 6  8]]\n"
     ]
    },
    {
     "data": {
      "image/png": "[encoded data removed]",
      "text/plain": [
       "<Figure size 640x480 with 1 Axes>"
      ]
     },
     "metadata": {},
     "output_type": "display_data"
    }
   ],
   "source": [
    "# Added a confusion matrix\n",
    "from sklearn.metrics import confusion_matrix\n",
    "conf_matrix = confusion_matrix(y_test, y_pred)\n",
    "print('Confusion Matrix:')\n",
    "print(conf_matrix)\n",
    "\n",
    "# Created a heatmap for the confusion matrix\n",
    "sns.heatmap(conf_matrix, annot=True, fmt='d', cmap='Blues', cbar=False)\n",
    "plt.xlabel('Predicted')\n",
    "plt.ylabel('True')\n",
    "plt.title('Confusion Matrix')\n",
    "plt.show()"
   ]
  },
  {
   "cell_type": "code",
   "execution_count": 23,
   "id": "532a1ece",
   "metadata": {},
   "outputs": [
    {
     "name": "stdout",
     "output_type": "stream",
     "text": [
      "Accuracy: 0.79\n"
     ]
    }
   ],
   "source": [
    "# Calculated accuracy for evaluation\n",
    "accuracy = accuracy_score(y_test, y_pred)\n",
    "\n",
    "print(f'Accuracy: {accuracy:.2f}')"
   ]
  },
  {
   "cell_type": "code",
   "execution_count": 24,
   "id": "9267a86d",
   "metadata": {},
   "outputs": [
    {
     "name": "stdout",
     "output_type": "stream",
     "text": [
      "Predicted Product: No\n"
     ]
    }
   ],
   "source": [
    "# Created a new row of data for prediction\n",
    "new_data = {\n",
    "    'Sales': [1500],\n",
    "    'Order_Quantity': [100],\n",
    "    'Profit': [500],\n",
    "    'Order_Priority': [2]  # Replace with the desired order priority value (e.g., 2 for \"Medium\")\n",
    "}\n",
    "new_df = pd.DataFrame(new_data)\n",
    "\n",
    "# Make a prediction for the new data\n",
    "predicted_product = model.predict(new_df)\n",
    "\n",
    "if predicted_product == 1:\n",
    "    print('Predicted Product: Yes')\n",
    "else:\n",
    "    print('Predicted Product: No')"
   ]
  },
  {
   "cell_type": "code",
   "execution_count": 17,
   "id": "de592408",
   "metadata": {},
   "outputs": [],
   "source": [
    "model = SVC(random_state=42)\n",
    "model.fit(X_train, y_train)  # Assuming you have already trained the model\n",
    "\n",
    "test_data = pd.read_csv(\"test.csv\")  # Replace with the path to your \"test.csv\" file\n",
    "test_df = pd.DataFrame(test_data)\n",
    "\n",
    "# Mapped categorical \"Order_Priority\" values to numeric values\n",
    "test_df[\"Order_Priority\"] = test_df[\"Order_Priority\"].map(order_priority_mapping)\n",
    "\n",
    "# Defined the features (independent variables) for the test dataset\n",
    "X_test = test_df[['Sales', 'Order_Quantity', 'Profit', 'Order_Priority']]\n",
    "\n",
    "# Made predictions on the test dataset\n",
    "test_predictions = model.predict(X_test)\n",
    "\n",
    "# Mapped binary predictions to \"Yes\" or \"No\"\n",
    "test_predictions = [\"Yes\" if pred == 1 else \"No\" for pred in test_predictions]\n",
    "\n",
    "# Added the \"Result\" column to the test dataset\n",
    "test_df[\"Result\"] = test_predictions\n",
    "\n",
    "# Saved the updated test dataset with the \"Result\" column\n",
    "test_df.to_csv(\"test_results.csv\", index=False)  \n"
   ]
  },
  {
   "cell_type": "code",
   "execution_count": null,
   "id": "77d909d8-eebd-474c-a54a-1f3a6f8aac2e",
   "metadata": {},
   "outputs": [],
   "source": []
  }
 ],
 "metadata": {
  "kernelspec": {
   "display_name": "Python 3 (ipykernel)",
   "language": "python",
   "name": "python3"
  },
  "language_info": {
   "codemirror_mode": {
    "name": "ipython",
    "version": 3
   },
   "file_extension": ".py",
   "mimetype": "text/x-python",
   "name": "python",
   "nbconvert_exporter": "python",
   "pygments_lexer": "ipython3",
   "version": "3.11.5"
  }
 },
 "nbformat": 4,
 "nbformat_minor": 5
}
